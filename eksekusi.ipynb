{
 "cells": [
  {
   "cell_type": "code",
   "execution_count": 2,
   "id": "b26c63b4",
   "metadata": {},
   "outputs": [],
   "source": [
    "#%%\n",
    "import pandas as pd\n",
    "import re\n",
    "import string\n",
    "from Sastrawi.Stemmer.StemmerFactory import StemmerFactory\n",
    "import nltk\n",
    "from nltk.corpus import stopwords\n",
    "import sys\n",
    "import subprocess\n",
    "import json"
   ]
  },
  {
   "cell_type": "code",
   "execution_count": 3,
   "id": "af0b96d2",
   "metadata": {},
   "outputs": [
    {
     "name": "stderr",
     "output_type": "stream",
     "text": [
      "[nltk_data] Downloading package stopwords to\n",
      "[nltk_data]     C:\\Users\\ilham\\AppData\\Roaming\\nltk_data...\n",
      "[nltk_data]   Package stopwords is already up-to-date!\n"
     ]
    }
   ],
   "source": [
    "# Download stopwords NLTK\n",
    "nltk.download('stopwords')\n",
    "\n",
    "# Buat stopwords bahasa Indonesia\n",
    "stop_words = set(stopwords.words('indonesian'))\n",
    "\n",
    "# Buat stemmer Sastrawi\n",
    "factory = StemmerFactory()\n",
    "stemmer = factory.create_stemmer()"
   ]
  },
  {
   "cell_type": "markdown",
   "id": "4eb9567d",
   "metadata": {},
   "source": [
    "###preprocesing"
   ]
  },
  {
   "cell_type": "code",
   "execution_count": null,
   "id": "c4f42659",
   "metadata": {},
   "outputs": [],
   "source": [
    "#preprocessing\n",
    "# 1. Baca file Excel hasil scraping\n",
    "df = pd.read_excel(\"artikel-cleaning-final/data_gabungan_normalized.xlsx\")   # ganti nama file sesuai hasil scraping\n",
    "\n",
    "# 2. Hapus duplikat (berdasarkan judul)\n",
    "df = df.drop_duplicates(subset=\"title\")\n",
    "\n",
    "# 3. Hapus baris yang tidak ada content-nya\n",
    "df = df.dropna(subset=[\"content\"])\n",
    "\n",
    "# 4. Hapus kolom tag (karena kosong)\n",
    "if \"tag\" in df.columns:\n",
    "    df = df.drop(columns=[\"tag\"])\n",
    "\n",
    "# 5.hapus kolom description(karena kosong)\n",
    "if \"description\" in df.columns:\n",
    "    df = df.drop(columns=[\"description\"])"
   ]
  },
  {
   "cell_type": "code",
   "execution_count": 5,
   "id": "3c4ace76",
   "metadata": {},
   "outputs": [],
   "source": [
    "# 6. Preprocessing teks\n",
    "def clean_text(text):\n",
    "    # Case folding\n",
    "    text = text.lower()\n",
    "\n",
    "    # Hapus URL/link\n",
    "    text = re.sub(r\"http\\S+|www\\S+|https\\S+\", \"\", text)\n",
    "\n",
    "    # Hapus tanda baca\n",
    "    text = text.translate(str.maketrans(\"\", \"\", string.punctuation))\n",
    "\n",
    "    # Hapus karakter non-ascii (noise)\n",
    "    text = re.sub(r\"[^\\x00-\\x7f]\", \" \", text)\n",
    "\n",
    "    return text\n",
    "\n",
    "def remove_stopwords(text):\n",
    "    tokens = text.split()\n",
    "    filtered = [word for word in tokens if word not in stop_words]\n",
    "    return \" \".join(filtered)\n",
    "\n",
    "def stemming(text):\n",
    "    return stemmer.stem(text)"
   ]
  },
  {
   "cell_type": "code",
   "execution_count": 6,
   "id": "3614b6a0",
   "metadata": {},
   "outputs": [],
   "source": [
    "# Terapkan ke kolom title, description, dan content\n",
    "for col in [\"title\", \"content\"]:\n",
    "    df[col] = df[col].astype(str)  # pastikan string\n",
    "    df[col] = df[col].apply(clean_text)\n",
    "    df[col] = df[col].apply(remove_stopwords)\n",
    "    df[col] = df[col].apply(stemming)\n",
    "\n",
    "with open(\"json-file/docs.jsonl\", \"w\", encoding=\"utf-8\") as f:\n",
    "    for i, row in df.iterrows():\n",
    "        doc = {\n",
    "            \"id\": str(i+1),  \n",
    "            \"contents\": f\"{row['title']} {row['content']}\",  \n",
    "            \"title\": row[\"title\"],       \n",
    "            \"link\": row[\"link\"],         \n",
    "            \"date\": str(row[\"date\"])     \n",
    "        }\n",
    "        f.write(json.dumps(doc, ensure_ascii=False) + \"\\n\")"
   ]
  },
  {
   "cell_type": "code",
   "execution_count": 7,
   "id": "96dcaad1",
   "metadata": {},
   "outputs": [
    {
     "name": "stdout",
     "output_type": "stream",
     "text": [
      "pyserini.index is deprecated, please use pyserini.index.lucene.\n",
      "2025-09-23 19:21:30,858 INFO  [main] index.AbstractIndexer (AbstractIndexer.java:205) - Setting log level to INFO\n",
      "2025-09-23 19:21:30,860 INFO  [main] index.AbstractIndexer (AbstractIndexer.java:208) - ============ Loading Index Configuration ============\n",
      "2025-09-23 19:21:30,860 INFO  [main] index.AbstractIndexer (AbstractIndexer.java:209) - AbstractIndexer settings:\n",
      "2025-09-23 19:21:30,861 INFO  [main] index.AbstractIndexer (AbstractIndexer.java:210) -  + DocumentCollection path: json-file\n",
      "2025-09-23 19:21:30,861 INFO  [main] index.AbstractIndexer (AbstractIndexer.java:211) -  + CollectionClass: JsonCollection\n",
      "2025-09-23 19:21:30,862 INFO  [main] index.AbstractIndexer (AbstractIndexer.java:212) -  + Index path: my_index\n",
      "2025-09-23 19:21:30,862 INFO  [main] index.AbstractIndexer (AbstractIndexer.java:213) -  + Threads: 1\n",
      "2025-09-23 19:21:30,862 INFO  [main] index.AbstractIndexer (AbstractIndexer.java:214) -  + Optimize (merge segments)? false\n",
      "2025-09-23 19:21:30,887 INFO  [main] index.IndexCollection (IndexCollection.java:246) - Using DefaultEnglishAnalyzer\n",
      "2025-09-23 19:21:30,888 INFO  [main] index.IndexCollection (IndexCollection.java:247) - Stemmer: porter\n",
      "2025-09-23 19:21:30,888 INFO  [main] index.IndexCollection (IndexCollection.java:248) - Keep stopwords? false\n",
      "2025-09-23 19:21:30,889 INFO  [main] index.IndexCollection (IndexCollection.java:249) - Stopwords file: null\n",
      "2025-09-23 19:21:30,984 INFO  [main] index.IndexCollection (IndexCollection.java:197) - IndexCollection settings:\n",
      "2025-09-23 19:21:30,985 INFO  [main] index.IndexCollection (IndexCollection.java:198) -  + Generator: DefaultLuceneDocumentGenerator\n",
      "2025-09-23 19:21:30,985 INFO  [main] index.IndexCollection (IndexCollection.java:199) -  + Language: en\n",
      "2025-09-23 19:21:30,985 INFO  [main] index.IndexCollection (IndexCollection.java:200) -  + Stemmer: porter\n",
      "2025-09-23 19:21:30,985 INFO  [main] index.IndexCollection (IndexCollection.java:201) -  + Keep stopwords? false\n",
      "2025-09-23 19:21:30,986 INFO  [main] index.IndexCollection (IndexCollection.java:202) -  + Stopwords: null\n",
      "2025-09-23 19:21:30,986 INFO  [main] index.IndexCollection (IndexCollection.java:203) -  + Store positions? true\n",
      "2025-09-23 19:21:30,986 INFO  [main] index.IndexCollection (IndexCollection.java:204) -  + Store docvectors? true\n",
      "2025-09-23 19:21:30,986 INFO  [main] index.IndexCollection (IndexCollection.java:205) -  + Store document \"contents\" field? false\n",
      "2025-09-23 19:21:30,986 INFO  [main] index.IndexCollection (IndexCollection.java:206) -  + Store document \"raw\" field? true\n",
      "2025-09-23 19:21:30,986 INFO  [main] index.IndexCollection (IndexCollection.java:207) -  + Additional fields to index: []\n",
      "2025-09-23 19:21:30,987 INFO  [main] index.IndexCollection (IndexCollection.java:208) -  + Whitelist: null\n",
      "2025-09-23 19:21:30,987 INFO  [main] index.IndexCollection (IndexCollection.java:209) -  + Pretokenized?: false\n",
      "2025-09-23 19:21:30,987 INFO  [main] index.IndexCollection (IndexCollection.java:210) -  + Codec: Lucene99\n",
      "2025-09-23 19:21:30,987 INFO  [main] index.AbstractIndexer (AbstractIndexer.java:238) - ============ Indexing Collection ============\n",
      "2025-09-23 19:21:30,989 INFO  [main] index.AbstractIndexer (AbstractIndexer.java:247) - Thread pool with 1 threads initialized.\n",
      "2025-09-23 19:21:30,989 INFO  [main] index.AbstractIndexer (AbstractIndexer.java:248) - 1 file found in json-file\n",
      "2025-09-23 19:21:30,989 INFO  [main] index.AbstractIndexer (AbstractIndexer.java:249) - Starting to index...\n",
      "2025-09-23 19:21:31,844 INFO  [main] index.AbstractIndexer (AbstractIndexer.java:307) - Indexing Complete! 702 documents indexed\n",
      "2025-09-23 19:21:31,844 INFO  [main] index.AbstractIndexer (AbstractIndexer.java:308) - ============ Final Counter Values ============\n",
      "2025-09-23 19:21:31,845 INFO  [main] index.AbstractIndexer (AbstractIndexer.java:309) - indexed:              702\n",
      "2025-09-23 19:21:31,845 INFO  [main] index.AbstractIndexer (AbstractIndexer.java:310) - unindexable:            0\n",
      "2025-09-23 19:21:31,845 INFO  [main] index.AbstractIndexer (AbstractIndexer.java:311) - empty:                  0\n",
      "2025-09-23 19:21:31,845 INFO  [main] index.AbstractIndexer (AbstractIndexer.java:312) - skipped:                0\n",
      "2025-09-23 19:21:31,845 INFO  [main] index.AbstractIndexer (AbstractIndexer.java:313) - errors:                 0\n",
      "2025-09-23 19:21:31,880 INFO  [main] index.AbstractIndexer (AbstractIndexer.java:316) - Total 702 documents indexed in 00:00:00\n",
      "\n",
      "WARNING: Using incubator modules: jdk.incubator.vector\n",
      "Sept 23, 2025 7:21:30 PM org.apache.lucene.store.MMapDirectory lookupProvider\n",
      "WARNING: You are running with Java 22 or later. To make full use of MMapDirectory, please update Apache Lucene.\n",
      "WARNING: A terminally deprecated method in sun.misc.Unsafe has been called\n",
      "WARNING: sun.misc.Unsafe::invokeCleaner has been called by org.apache.lucene.store.MappedByteBufferIndexInputProvider (file:/D:/Information-retrieval/venvilham/Lib/site-packages/pyserini/resources/jars/anserini-1.1.1-fatjar.jar)\n",
      "WARNING: Please consider reporting this to the maintainers of class org.apache.lucene.store.MappedByteBufferIndexInputProvider\n",
      "WARNING: sun.misc.Unsafe::invokeCleaner will be removed in a future release\n",
      "\n"
     ]
    }
   ],
   "source": [
    "cmd = [\n",
    "    sys.executable, \"-m\", \"pyserini.index\",\n",
    "    \"--collection\", \"JsonCollection\",\n",
    "    \"--input\", \"json-file\",\n",
    "    \"--index\", \"my_index\",\n",
    "    \"--generator\", \"DefaultLuceneDocumentGenerator\",\n",
    "    \"--threads\", \"1\",\n",
    "    \"--storePositions\",\n",
    "    \"--storeDocvectors\",\n",
    "    \"--storeRaw\"\n",
    "]\n",
    "\n",
    "result = subprocess.run(cmd, capture_output=True, text=True)\n",
    "print(result.stdout)\n",
    "print(result.stderr)"
   ]
  }
 ],
 "metadata": {
  "kernelspec": {
   "display_name": "venvilham",
   "language": "python",
   "name": "python3"
  },
  "language_info": {
   "codemirror_mode": {
    "name": "ipython",
    "version": 3
   },
   "file_extension": ".py",
   "mimetype": "text/x-python",
   "name": "python",
   "nbconvert_exporter": "python",
   "pygments_lexer": "ipython3",
   "version": "3.13.3"
  }
 },
 "nbformat": 4,
 "nbformat_minor": 5
}
